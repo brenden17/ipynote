{
 "metadata": {
  "name": "",
  "signature": "sha256:6159603b99e4478909a477da834481df5a4561f1cee9a1b9c7bded265836904f"
 },
 "nbformat": 3,
 "nbformat_minor": 0,
 "worksheets": [
  {
   "cells": [
    {
     "cell_type": "markdown",
     "metadata": {},
     "source": [
      "## IPython\n",
      "[IPython](http://ipython.org)\uc740 \ucc98\uc74c\uc5d0\ub294 \ud30c\uc774\uc36c\uc744 \uc880 \ub354 \uc790\uc5f0\uc2a4\ub7fd\uace0 \ud3b8\ub9ac\ud558\uac8c \uc0ac\uc6a9\ud560 \uc218 \uc788\ub294 \uba85\ub839\uc5b4 \uc258(shell)\ub85c \uac1c\ubc1c\ub418\uc5c8\uc73c\ub098, \ucc28\uce30 \ub300\ud654\ud615 \uacc4\uc0b0, \ubcd1\ub82c \ucc98\ub9ac, \uc2dc\uac01\ud654\ub97c \uc81c\uacf5\ud558\ub294 \ud658\uacbd\uc744 \uc81c\uacf5\ud558\uace0 \uc788\ub2e4."
     ]
    },
    {
     "cell_type": "markdown",
     "metadata": {},
     "source": [
      "### Markdown"
     ]
    },
    {
     "cell_type": "markdown",
     "metadata": {},
     "source": [
      "\ucd5c\ucd08 [IPython](http://ipython.org)\uc740 **\ud30c\uc774\uc36c**\uc744 \uc880 \ub354 \uc790\uc5f0\uc2a4\ub7fd\uace0 \ud3b8\ub9ac\ud558\uac8c \uc0ac\uc6a9\ud560 \uc218 \uc788\ub294 \uba85\ub839\uc5b4 `\uc258(shell)`\ub85c \uac1c\ubc1c\ub418\uc5c8\uc73c\ub098, \ucc28\uce30 *\ub300\ud654\ud615 \uacc4\uc0b0*, *\ubcd1\ub82c \ucc98\ub9ac*, *\uc2dc\uac01\ud654*\ub97c \uc81c\uacf5\ud558\ub294 \ud658\uacbd\uc774 \ub418\uc5c8\ub2e4. IPython\uc740 \ub2e4\uc74c\uacfc \uac19\uc740 \uc8fc\uc694 \uae30\ub2a5\uc774 \uc788\ub2e4.\n",
      "* \uac15\ub825\ud55c \ub300\ud654\ud615 \uc140(interactive shells)\n",
      "* \ubb38\uc11c\ud654\uc640 \ucf54\ub4dc\ub97c \ud1b5\ud569\ud560 \uc218 \uc788\ub294 \uc6f9 \uae30\ubc18 notebook\n",
      "* \uc720\uc5f0\ud558\uace0, \ub0b4\uc7a5\ud615(embeddable) \uc778\ud130\ud504\ub9ac\ud130\n",
      "* \uace0\uc131\ub2a5\uc774\uc790 \uc0ac\uc6a9\ud558\uae30 \uc26c\uc6b4 \ubcd1\ub82c \uacc4\uc0b0 \n",
      "\n",
      "\ud30c\uc774\uc36c \ucf54\ub4dc\n",
      "```python\n",
      "class Player:\n",
      "    def __init__(self):\n",
      "        print('hello')\n",
      "```\n"
     ]
    },
    {
     "cell_type": "code",
     "collapsed": true,
     "input": [
      "from IPython.display import HTML\n",
      "HTML('<iframe width=\"700\" height=\"500\" scrolling=\"no\" frameborder=\"no\" src=\"https://www.google.com/fusiontables/embedviz?q=select+col2%2C+col3%2C+col6+from+137OUap7Yf5E2Ynv5p_RTcKvM0uhnROb3hHH_VMZo+limit+1000&amp;viz=HEATMAP&amp;h=true&amp;lat=37.55135301094796&amp;lng=126.98139842187491&amp;t=1&amp;z=11&amp;l=col2&amp;y=3&amp;tmplt=4&amp;hmd=true&amp;hmg=%2366ff0000%2C%2393ff00ff%2C%23c1ff00ff%2C%23eeff00ff%2C%23f4e300ff%2C%23f4e300ff%2C%23f9c600ff%2C%23ffaa00ff%2C%23ff7100ff%2C%23ff3900ff%2C%23ff0000ff&amp;hmo=0.38&amp;hmr=21&amp;hmw=6&amp;hml=TWO_COL_LAT_LNG\"></iframe>')\n"
     ],
     "language": "python",
     "metadata": {},
     "outputs": []
    },
    {
     "cell_type": "code",
     "collapsed": false,
     "input": [
      "from IPython.display import Math\n",
      "\n",
      "Math(r'\\begin{eqnarray*} x+3y+5z & = & 10\\\\ 2x+5y+z & = & 8\\\\ 2x+3y+8z & = & 3\\end{eqnarray*}')\n"
     ],
     "language": "python",
     "metadata": {},
     "outputs": []
    },
    {
     "cell_type": "code",
     "collapsed": true,
     "input": [
      "Math(r'\\left[\\begin{array}{c} x\\\\ y\\\\ z\\end{array}\\right]=\\left[\\begin{array}{ccc} 1 & 3 & 5\\\\ 2 & 5 & 1\\\\ 2 & 3 & 8\\end{array}\\right]^{-1}\\left[\\begin{array}{c} 10\\\\ 8\\\\ 3\\end{array}\\right]=\\frac{1}{25}\\left[\\begin{array}{c} -232\\\\ 129\\\\ 19\\end{array}\\right]=\\left[\\begin{array}{c} -9.28\\\\ 5.16\\\\ 0.76\\end{array}\\right]')\n",
      "    "
     ],
     "language": "python",
     "metadata": {},
     "outputs": []
    },
    {
     "cell_type": "code",
     "collapsed": true,
     "input": [
      "import numpy as np\n",
      "from scipy import linalg\n",
      "\n",
      "A = np.array([[1, 3, 5], [2, 5, 1], [2, 3, 8]])\n",
      "b = np.array([[10], [8], [3]])\n",
      "\n",
      "np.linalg.solve(A,b)"
     ],
     "language": "python",
     "metadata": {},
     "outputs": []
    },
    {
     "cell_type": "markdown",
     "metadata": {},
     "source": [
      "### notebook \ub9e4\uc9c1 \uba85\ub839\uc5b4"
     ]
    },
    {
     "cell_type": "code",
     "collapsed": false,
     "input": [
      "%lsmagic"
     ],
     "language": "python",
     "metadata": {},
     "outputs": []
    },
    {
     "cell_type": "code",
     "collapsed": true,
     "input": [
      "%precision 3\n",
      "\n",
      "import random\n",
      "x = random.random()\n",
      "y = random.random()\n",
      "x, y"
     ],
     "language": "python",
     "metadata": {},
     "outputs": []
    },
    {
     "cell_type": "code",
     "collapsed": false,
     "input": [
      "%time x = [1 for _ in range(100000)]"
     ],
     "language": "python",
     "metadata": {},
     "outputs": []
    },
    {
     "cell_type": "code",
     "collapsed": true,
     "input": [
      "%timeit x = [1 for _ in range(100000)]"
     ],
     "language": "python",
     "metadata": {},
     "outputs": []
    },
    {
     "cell_type": "code",
     "collapsed": true,
     "input": [
      "import numpy as np\n",
      "from scipy import linalg\n",
      "\n",
      "def find_root():\n",
      "    A = np.array([[1, 3, 5], [2, 5, 1], [2, 3, 8]])\n",
      "    b = np.array([[10], [8], [3]])\n",
      "\n",
      "    c = np.linalg.solve(A,b)\n",
      "    print(c)\n",
      "\n",
      "%prun find_root()"
     ],
     "language": "python",
     "metadata": {},
     "outputs": []
    },
    {
     "cell_type": "code",
     "collapsed": true,
     "input": [
      "%env"
     ],
     "language": "python",
     "metadata": {},
     "outputs": []
    },
    {
     "cell_type": "code",
     "collapsed": false,
     "input": [
      "%%writefile solve.py\n",
      "\n",
      "import numpy as np\n",
      "from scipy import linalg\n",
      "\n",
      "A = np.array([[1, 3, 5], [2, 5, 1], [2, 3, 8]])\n",
      "b = np.array([[10], [8], [3]])\n",
      "\n",
      "c = np.linalg.solve(A,b)\n",
      "print(c)\n"
     ],
     "language": "python",
     "metadata": {},
     "outputs": []
    },
    {
     "cell_type": "code",
     "collapsed": false,
     "input": [
      "%run solve.py"
     ],
     "language": "python",
     "metadata": {},
     "outputs": []
    },
    {
     "cell_type": "code",
     "collapsed": true,
     "input": [
      "%%html\n",
      "<ul>\n",
      "<li><a href=\"http://www.google.com\">google</a></li>\n",
      "<li><a href=\"http://www.python.org\">python</a></li>\n",
      "<li><a href=\"http://www.ipython.org\">ipython</a></li>\n",
      "</ul>"
     ],
     "language": "python",
     "metadata": {},
     "outputs": []
    },
    {
     "cell_type": "markdown",
     "metadata": {},
     "source": [
      "### \ub9e4\uc9c1 \uba85\ub839\uc5b4 \uc791\uc131\ud558\uae30"
     ]
    },
    {
     "cell_type": "code",
     "collapsed": true,
     "input": [
      "from IPython.core.magic import register_line_magic, register_cell_magic\n",
      "import timeit\n",
      "import platform\n",
      "\n",
      "@register_line_magic\n",
      "def timeit_extrainfo(line):\n",
      "    print('Platform version: {v}'.format(v=platform.platform()))\n",
      "    print('Python version: {v}'.format(v=platform.python_version()))\n",
      "    return timeit.timeit(line)\n"
     ],
     "language": "python",
     "metadata": {},
     "outputs": []
    },
    {
     "cell_type": "code",
     "collapsed": true,
     "input": [
      "%timeit_extrainfo 'x = [1 for _ in range(100000)]'"
     ],
     "language": "python",
     "metadata": {},
     "outputs": []
    },
    {
     "cell_type": "markdown",
     "metadata": {},
     "source": [
      "### \uc704\uc82f \uc0ac\uc6a9\ud558\uae30"
     ]
    },
    {
     "cell_type": "code",
     "collapsed": true,
     "input": [
      "from IPython.html.widgets import interact\n",
      "\n",
      "@interact\n",
      "def plot(n=(1, 30, 2), k=('a', 'b', 'c')):\n",
      "    print(n, k)"
     ],
     "language": "python",
     "metadata": {},
     "outputs": []
    },
    {
     "cell_type": "code",
     "collapsed": true,
     "input": [
      "# http://scikit-learn.org/stable/auto_examples/svm/plot_iris.html\n",
      "%matplotlib inline\n",
      "import numpy as np\n",
      "import matplotlib.pyplot as plt\n",
      "from sklearn import svm, datasets\n",
      "from IPython.html.widgets import interact\n",
      "\n",
      "iris = datasets.load_iris()\n",
      "X = iris.data[:, :2]  # \uc55e \ub450 \uac1c\uc758 \uc18d\uc131\ub9cc \uc0ac\uc6a9\ud55c\ub2e4.\n",
      "Y = iris.target\n",
      "\n",
      "h = .02  # mesh\uc758 \uac04\uaca9\n",
      "\n",
      "@interact\n",
      "def plot(C=(0.1, 2.0), kernel=('linear', 'rbf', 'poly')):\n",
      "    clf = svm.SVC(kernel=str(kernel), C=C)\n",
      "    clf.fit(X, Y)\n",
      "\n",
      "    # \uc0c9\uc0c1\uc73c\ub85c \uacb0\uc815 \uacbd\uacc4\uc120\uc744 \uadf8\ub9b0\ub2e4.\n",
      "    x_min, x_max = X[:, 0].min() - 1, X[:, 0].max() + 1\n",
      "    y_min, y_max = X[:, 1].min() - 1, X[:, 1].max() + 1\n",
      "    xx, yy = np.meshgrid(np.arange(x_min, x_max, h), np.arange(y_min, y_max, h))\n",
      "    Z = clf.predict(np.c_[xx.ravel(), yy.ravel()])\n",
      "\n",
      "    # \uacb0\uacfc\ub97c \uc0c9\uc0c1\uc73c\ub85c \ub098\ud0c0\ub0b8\ub2e4.\n",
      "    Z = Z.reshape(xx.shape)\n",
      "    plt.pcolormesh(xx, yy, Z, cmap=plt.cm.Paired)\n",
      "\n",
      "    plt.scatter(X[:, 0], X[:, 1], c=Y, cmap=plt.cm.Paired)\n",
      "    plt.show()"
     ],
     "language": "python",
     "metadata": {},
     "outputs": []
    },
    {
     "cell_type": "code",
     "collapsed": true,
     "input": [
      "# http://scikit-learn.org/stable/auto_examples/exercises/plot_iris_exercise.html\n",
      "%matplotlib inline\n",
      "import numpy as np\n",
      "import matplotlib.pyplot as plt\n",
      "from sklearn import datasets, svm\n",
      "from IPython.html.widgets import interact\n",
      "\n",
      "iris = datasets.load_iris()\n",
      "X = iris.data\n",
      "y = iris.target\n",
      "\n",
      "X = X[y != 0, :2]\n",
      "y = y[y != 0]\n",
      "\n",
      "n_sample = len(X)\n",
      "\n",
      "np.random.seed(0)\n",
      "order = np.random.permutation(n_sample)\n",
      "X = X[order]\n",
      "y = y[order].astype(np.float)\n",
      "\n",
      "X_train = X[:.9 * n_sample]\n",
      "y_train = y[:.9 * n_sample]\n",
      "X_test = X[.9 * n_sample:]\n",
      "y_test = y[.9 * n_sample:]\n",
      "\n",
      "@interact\n",
      "def plot(kernel=('linear', 'rbf', 'poly'), gamma=(5, 15)):\n",
      "    clf = svm.SVC(kernel=str(kernel), gamma=gamma)\n",
      "    clf.fit(X_train, y_train)\n",
      "\n",
      "    plt.clf()\n",
      "    plt.scatter(X[:, 0], X[:, 1], c=y, zorder=10, cmap=plt.cm.Paired)\n",
      "\n",
      "    # Circle out the test data\n",
      "    plt.scatter(X_test[:, 0], X_test[:, 1], s=80, facecolors='none', zorder=10)\n",
      "\n",
      "    plt.axis('tight')\n",
      "    x_min = X[:, 0].min()\n",
      "    x_max = X[:, 0].max()\n",
      "    y_min = X[:, 1].min()\n",
      "    y_max = X[:, 1].max()\n",
      "\n",
      "    XX, YY = np.mgrid[x_min:x_max:200j, y_min:y_max:200j]\n",
      "    Z = clf.decision_function(np.c_[XX.ravel(), YY.ravel()])\n",
      "\n",
      "    # Put the result into a color plot\n",
      "    Z = Z.reshape(XX.shape)\n",
      "    plt.pcolormesh(XX, YY, Z > 0, cmap=plt.cm.Paired)\n",
      "    plt.contour(XX, YY, Z, colors=['k', 'k', 'k'], linestyles=['--', '-', '--'],\n",
      "                levels=[-.5, 0, .5])\n",
      "\n",
      "    plt.title(kernel)\n",
      "    plt.show()"
     ],
     "language": "python",
     "metadata": {},
     "outputs": []
    },
    {
     "cell_type": "markdown",
     "metadata": {},
     "source": [
      "### notebook\uc5d0\uc11c R \uc5b8\uc5b4 \uc0ac\uc6a9\ud558\uae30 "
     ]
    },
    {
     "cell_type": "markdown",
     "metadata": {},
     "source": [
      "1. http://cran.r-project.org/mirrors.html\uc5d0\uc11c \uc6b4\uc601 \uccb4\uc81c\uc5d0 \ub530\ub978 R\uc744 \ub0b4\ub824 \ubc1b\uace0 \uc124\uce58\ud55c\ub2e4. \uc6b0\ubd84\ud22c\uc5d0\uc11c\ub294 sudo apt-get install r-base-dev\ub85c \uc124\uce58\ud560 \uc218 \uc788\ub2e4.\n",
      "1. http://rpy.sourceforge.net/rpy2.html\uc5d0\uc11c rpy2\ub97c \ub0b4\ub824\ubc1b\uace0 \uc124\uce58\ud55c\ub2e4. \uc544\ub098\ucf58\ub2e4\uc5d0\uc11c\ub294  install -c https://conda.binstar.org/r rpy2\ub85c \uc124\uce58\ud558\uba70  pip install rpy2\ub85c \uc124\uce58\ud574\ub3c4 \uc88b\ub2e4\n",
      "1. IPython notebook\uc5d0\uc11c R \ucf54\ub4dc\ub97c \uc2e4\ud589\ud558\ub824\uba74 \uba3c\uc800 %load_ext rmagic\uc744 \uc2e4\ud589\ud55c\ub2e4"
     ]
    },
    {
     "cell_type": "markdown",
     "metadata": {},
     "source": [
      "* http://nbviewer.ipython.org/github/ipython/ipython/blob/3607712653c66d63e0d7f13f073bde8c0f209ba8/docs/examples/notebooks/rmagic_extension.ipynb\n",
      "* http://nbviewer.ipython.org/github/dboyliao/cookbook-code/blob/master/notebooks/chapter07_stats/08_r.ipynb\n",
      "* http://ipython.org/ipython-doc/2/config/extensions/rmagic.html\n",
      "* http://www.randalolson.com/2013/01/14/filling-in-pythons-gaps-in-statistics-packages-with-rmagic/\n",
      "* http://blog.yhathq.com/posts/comparing-random-forests-in-python-and-r.html"
     ]
    },
    {
     "cell_type": "code",
     "collapsed": true,
     "input": [
      "%load_ext rmagic"
     ],
     "language": "python",
     "metadata": {},
     "outputs": []
    },
    {
     "cell_type": "code",
     "collapsed": true,
     "input": [
      "from sklearn.datasets import load_boston\n",
      "boston = load_boston()\n",
      "print boston.data.shape\n",
      "print boston.feature_names\n",
      "print np.max(boston.target), np.min(boston.target), np.mean(boston.target)\n",
      "print boston.DESCR"
     ],
     "language": "python",
     "metadata": {},
     "outputs": []
    },
    {
     "cell_type": "code",
     "collapsed": true,
     "input": [
      "%matplotlib inline\n",
      "import numpy as np\n",
      "import matplotlib.pyplot as plt\n",
      "\n",
      "X = boston.data[:, 5]\n",
      "Y = boston.target\n",
      "plt.scatter(X, Y)"
     ],
     "language": "python",
     "metadata": {},
     "outputs": []
    },
    {
     "cell_type": "code",
     "collapsed": true,
     "input": [
      "%Rpush X Y\n",
      "%R lm(Y~X)$coef"
     ],
     "language": "python",
     "metadata": {},
     "outputs": []
    },
    {
     "cell_type": "code",
     "collapsed": true,
     "input": [
      "%%R -i X,Y\n",
      "XYlm = lm(Y~X)\n",
      "XYcoef = coef(XYlm)\n",
      "print(summary(XYlm))\n",
      "par(mfrow=c(2,2))\n",
      "plot(XYlm)"
     ],
     "language": "python",
     "metadata": {},
     "outputs": []
    },
    {
     "cell_type": "code",
     "collapsed": true,
     "input": [],
     "language": "python",
     "metadata": {},
     "outputs": []
    }
   ],
   "metadata": {}
  }
 ]
}