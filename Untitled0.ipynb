{
 "metadata": {
  "name": "",
  "signature": "sha256:8aff0412c8c810d4c9605befa7a87367b65443f996ad618c39604aaff2bc64b7"
 },
 "nbformat": 3,
 "nbformat_minor": 0,
 "worksheets": [
  {
   "cells": [
    {
     "cell_type": "markdown",
     "metadata": {},
     "source": [
      "## IPython\n",
      "[IPython](http://ipython.org)\uc740 \ucc98\uc74c\uc5d0\ub294 \ud30c\uc774\uc36c\uc744 \uc880 \ub354 \uc790\uc5f0\uc2a4\ub7fd\uace0 \ud3b8\ub9ac\ud558\uac8c \uc0ac\uc6a9\ud560 \uc218 \uc788\ub294 \uba85\ub839\uc5b4 \uc258(shell)\ub85c \uac1c\ubc1c\ub418\uc5c8\uc73c\ub098, \ucc28\uce30 \ub300\ud654\ud615 \uacc4\uc0b0, \ubcd1\ub82c \ucc98\ub9ac, \uc2dc\uac01\ud654\ub97c \uc81c\uacf5\ud558\ub294 \ud658\uacbd\uc744 \uc81c\uacf5\ud558\uace0 \uc788\ub2e4.\n",
      "\n"
     ]
    },
    {
     "cell_type": "markdown",
     "metadata": {},
     "source": [
      "### Markdown"
     ]
    },
    {
     "cell_type": "code",
     "collapsed": false,
     "input": [],
     "language": "python",
     "metadata": {},
     "outputs": []
    },
    {
     "cell_type": "markdown",
     "metadata": {},
     "source": [
      "```python\n",
      "class Player:\n",
      "    def __init__(self):\n",
      "        print('hello')\n",
      "```"
     ]
    },
    {
     "cell_type": "code",
     "collapsed": false,
     "input": [
      "from IPython.display import HTML\n",
      "HTML('<iframe width=\"700\" height=\"500\" scrolling=\"no\" frameborder=\"no\" src=\"https://www.google.com/fusiontables/embedviz?q=select+col2%2C+col3%2C+col6+from+137OUap7Yf5E2Ynv5p_RTcKvM0uhnROb3hHH_VMZo+limit+1000&amp;viz=HEATMAP&amp;h=true&amp;lat=37.55135301094796&amp;lng=126.98139842187491&amp;t=1&amp;z=11&amp;l=col2&amp;y=3&amp;tmplt=4&amp;hmd=true&amp;hmg=%2366ff0000%2C%2393ff00ff%2C%23c1ff00ff%2C%23eeff00ff%2C%23f4e300ff%2C%23f4e300ff%2C%23f9c600ff%2C%23ffaa00ff%2C%23ff7100ff%2C%23ff3900ff%2C%23ff0000ff&amp;hmo=0.38&amp;hmr=21&amp;hmw=6&amp;hml=TWO_COL_LAT_LNG\"></iframe>')\n"
     ],
     "language": "python",
     "metadata": {},
     "outputs": [
      {
       "html": [
        "<iframe width=\"700\" height=\"500\" scrolling=\"no\" frameborder=\"no\" src=\"https://www.google.com/fusiontables/embedviz?q=select+col2%2C+col3%2C+col6+from+137OUap7Yf5E2Ynv5p_RTcKvM0uhnROb3hHH_VMZo+limit+1000&amp;viz=HEATMAP&amp;h=true&amp;lat=37.55135301094796&amp;lng=126.98139842187491&amp;t=1&amp;z=11&amp;l=col2&amp;y=3&amp;tmplt=4&amp;hmd=true&amp;hmg=%2366ff0000%2C%2393ff00ff%2C%23c1ff00ff%2C%23eeff00ff%2C%23f4e300ff%2C%23f4e300ff%2C%23f9c600ff%2C%23ffaa00ff%2C%23ff7100ff%2C%23ff3900ff%2C%23ff0000ff&amp;hmo=0.38&amp;hmr=21&amp;hmw=6&amp;hml=TWO_COL_LAT_LNG\"></iframe>"
       ],
       "metadata": {},
       "output_type": "pyout",
       "prompt_number": 47,
       "text": [
        "<IPython.core.display.HTML at 0x5aa6750>"
       ]
      }
     ],
     "prompt_number": 47
    },
    {
     "cell_type": "code",
     "collapsed": false,
     "input": [
      "from IPython.display import Math\n",
      "\n",
      "Math(r'\\begin{eqnarray*} x+3y+5z & = & 10\\\\ 2x+5y+z & = & 8\\\\ 2x+3y+8z & = & 3\\end{eqnarray*}')\n"
     ],
     "language": "python",
     "metadata": {},
     "outputs": [
      {
       "latex": [
        "$$\\begin{eqnarray*} x+3y+5z & = & 10\\\\ 2x+5y+z & = & 8\\\\ 2x+3y+8z & = & 3\\end{eqnarray*}$$"
       ],
       "metadata": {},
       "output_type": "pyout",
       "prompt_number": 48,
       "text": [
        "<IPython.core.display.Math at 0x5aa6e90>"
       ]
      }
     ],
     "prompt_number": 48
    },
    {
     "cell_type": "code",
     "collapsed": false,
     "input": [
      "Math(r'\\left[\\begin{array}{c} x\\\\ y\\\\ z\\end{array}\\right]=\\left[\\begin{array}{ccc} 1 & 3 & 5\\\\ 2 & 5 & 1\\\\ 2 & 3 & 8\\end{array}\\right]^{-1}\\left[\\begin{array}{c} 10\\\\ 8\\\\ 3\\end{array}\\right]=\\frac{1}{25}\\left[\\begin{array}{c} -232\\\\ 129\\\\ 19\\end{array}\\right]=\\left[\\begin{array}{c} -9.28\\\\ 5.16\\\\ 0.76\\end{array}\\right].')\n",
      "    "
     ],
     "language": "python",
     "metadata": {},
     "outputs": [
      {
       "latex": [
        "$$\\left[\\begin{array}{c} x\\\\ y\\\\ z\\end{array}\\right]=\\left[\\begin{array}{ccc} 1 & 3 & 5\\\\ 2 & 5 & 1\\\\ 2 & 3 & 8\\end{array}\\right]^{-1}\\left[\\begin{array}{c} 10\\\\ 8\\\\ 3\\end{array}\\right]=\\frac{1}{25}\\left[\\begin{array}{c} -232\\\\ 129\\\\ 19\\end{array}\\right]=\\left[\\begin{array}{c} -9.28\\\\ 5.16\\\\ 0.76\\end{array}\\right].$$"
       ],
       "metadata": {},
       "output_type": "pyout",
       "prompt_number": 49,
       "text": [
        "<IPython.core.display.Math at 0x5aa6b50>"
       ]
      }
     ],
     "prompt_number": 49
    },
    {
     "cell_type": "code",
     "collapsed": false,
     "input": [
      "import numpy as np\n",
      "from scipy import linalg\n",
      "\n",
      "A = np.array([[1, 3, 5], [2, 5, 1], [2, 3, 8]])\n",
      "b = np.array([[10], [8], [3]])\n",
      "\n",
      "np.linalg.solve(A,b)"
     ],
     "language": "python",
     "metadata": {},
     "outputs": [
      {
       "metadata": {},
       "output_type": "pyout",
       "prompt_number": 50,
       "text": [
        "array([[-9.28],\n",
        "       [ 5.16],\n",
        "       [ 0.76]])"
       ]
      }
     ],
     "prompt_number": 50
    },
    {
     "cell_type": "markdown",
     "metadata": {},
     "source": [
      "### notebook \ub9e4\uc9c1 \uba85\ub839\uc5b4"
     ]
    },
    {
     "cell_type": "code",
     "collapsed": false,
     "input": [
      "%precision 3\n",
      "\n",
      "import random\n",
      "x = random.random()\n",
      "y = random.random()\n",
      "x, y"
     ],
     "language": "python",
     "metadata": {},
     "outputs": [
      {
       "metadata": {},
       "output_type": "pyout",
       "prompt_number": 52,
       "text": [
        "(0.860, 0.635)"
       ]
      }
     ],
     "prompt_number": 52
    },
    {
     "cell_type": "code",
     "collapsed": false,
     "input": [
      "%timeit x = [1 for _ in range(10000)]"
     ],
     "language": "python",
     "metadata": {},
     "outputs": [
      {
       "output_type": "stream",
       "stream": "stdout",
       "text": [
        "1000 loops, best of 3: 410 \u00b5s per loop\n"
       ]
      }
     ],
     "prompt_number": 53
    },
    {
     "cell_type": "code",
     "collapsed": false,
     "input": [
      "%timeit x = [1 for _ in range(1000)]"
     ],
     "language": "python",
     "metadata": {},
     "outputs": [
      {
       "output_type": "stream",
       "stream": "stdout",
       "text": [
        "10000 loops, best of 3: 44.9 \u00b5s per loop\n"
       ]
      }
     ],
     "prompt_number": 54
    },
    {
     "cell_type": "code",
     "collapsed": false,
     "input": [
      "%env"
     ],
     "language": "python",
     "metadata": {},
     "outputs": [
      {
       "metadata": {},
       "output_type": "pyout",
       "prompt_number": 55,
       "text": [
        "{'CLICOLOR': '1',\n",
        " 'COLORTERM': 'gnome-terminal',\n",
        " 'DBUS_SESSION_BUS_ADDRESS': 'unix:abstract=/tmp/dbus-sJQWoMzBAv,guid=3748f602d2d131150ea7f1f900000003',\n",
        " 'DEFAULTS_PATH': '/usr/share/gconf/gnome-fallback.default.path',\n",
        " 'DESKTOP_SESSION': 'gnome-fallback',\n",
        " 'DISPLAY': ':0.0',\n",
        " 'GDMSESSION': 'gnome-fallback',\n",
        " 'GIT_PAGER': 'cat',\n",
        " 'GNOME_DESKTOP_SESSION_ID': 'this-is-deprecated',\n",
        " 'GNOME_KEYRING_CONTROL': '/home/brenden/.cache/keyring-I7GIHz',\n",
        " 'GPG_AGENT_INFO': '/home/brenden/.cache/keyring-I7GIHz/gpg:0:1',\n",
        " 'GTK_IM_MODULE': 'ibus',\n",
        " 'HOME': '/home/brenden',\n",
        " 'LANG': 'en_US.UTF-8',\n",
        " 'LANGUAGE': 'en',\n",
        " 'LC_ADDRESS': 'en_AU.UTF-8',\n",
        " 'LC_IDENTIFICATION': 'en_AU.UTF-8',\n",
        " 'LC_MEASUREMENT': 'en_AU.UTF-8',\n",
        " 'LC_MONETARY': 'en_AU.UTF-8',\n",
        " 'LC_NAME': 'en_AU.UTF-8',\n",
        " 'LC_NUMERIC': 'en_AU.UTF-8',\n",
        " 'LC_PAPER': 'en_AU.UTF-8',\n",
        " 'LC_TELEPHONE': 'en_AU.UTF-8',\n",
        " 'LC_TIME': 'en_AU.UTF-8',\n",
        " 'LESSCLOSE': '/usr/bin/lesspipe %s %s',\n",
        " 'LESSOPEN': '| /usr/bin/lesspipe %s',\n",
        " 'LOGNAME': 'brenden',\n",
        " 'LS_COLORS': 'rs=0:di=01;34:ln=01;36:mh=00:pi=40;33:so=01;35:do=01;35:bd=40;33;01:cd=40;33;01:or=40;31;01:su=37;41:sg=30;43:ca=30;41:tw=30;42:ow=34;42:st=37;44:ex=01;32:*.tar=01;31:*.tgz=01;31:*.arj=01;31:*.taz=01;31:*.lzh=01;31:*.lzma=01;31:*.tlz=01;31:*.txz=01;31:*.zip=01;31:*.z=01;31:*.Z=01;31:*.dz=01;31:*.gz=01;31:*.lz=01;31:*.xz=01;31:*.bz2=01;31:*.bz=01;31:*.tbz=01;31:*.tbz2=01;31:*.tz=01;31:*.deb=01;31:*.rpm=01;31:*.jar=01;31:*.war=01;31:*.ear=01;31:*.sar=01;31:*.rar=01;31:*.ace=01;31:*.zoo=01;31:*.cpio=01;31:*.7z=01;31:*.rz=01;31:*.jpg=01;35:*.jpeg=01;35:*.gif=01;35:*.bmp=01;35:*.pbm=01;35:*.pgm=01;35:*.ppm=01;35:*.tga=01;35:*.xbm=01;35:*.xpm=01;35:*.tif=01;35:*.tiff=01;35:*.png=01;35:*.svg=01;35:*.svgz=01;35:*.mng=01;35:*.pcx=01;35:*.mov=01;35:*.mpg=01;35:*.mpeg=01;35:*.m2v=01;35:*.mkv=01;35:*.webm=01;35:*.ogm=01;35:*.mp4=01;35:*.m4v=01;35:*.mp4v=01;35:*.vob=01;35:*.qt=01;35:*.nuv=01;35:*.wmv=01;35:*.asf=01;35:*.rm=01;35:*.rmvb=01;35:*.flc=01;35:*.avi=01;35:*.fli=01;35:*.flv=01;35:*.gl=01;35:*.dl=01;35:*.xcf=01;35:*.xwd=01;35:*.yuv=01;35:*.cgm=01;35:*.emf=01;35:*.axv=01;35:*.anx=01;35:*.ogv=01;35:*.ogx=01;35:*.aac=00;36:*.au=00;36:*.flac=00;36:*.mid=00;36:*.midi=00;36:*.mka=00;36:*.mp3=00;36:*.mpc=00;36:*.ogg=00;36:*.ra=00;36:*.wav=00;36:*.axa=00;36:*.oga=00;36:*.spx=00;36:*.xspf=00;36:',\n",
        " 'MANDATORY_PATH': '/usr/share/gconf/gnome-fallback.mandatory.path',\n",
        " 'NODE_PATH': '/usr/lib/nodejs:/usr/lib/node_modules:/usr/share/javascript',\n",
        " 'OLDPWD': '/media/riemann/dedekind/workspace',\n",
        " 'PAGER': 'cat',\n",
        " 'PATH': '/media/riemann/dedekind/bin:/usr/lib/lightdm/lightdm:/usr/local/sbin:/usr/local/bin:/usr/sbin:/usr/bin:/sbin:/bin:/usr/games',\n",
        " 'PS1': '(dedekind)\\\\[\\\\e]0;\\\\u@\\\\h: \\\\w\\\\a\\\\]${debian_chroot:+($debian_chroot)}\\\\u@\\\\h:\\\\w\\\\$ ',\n",
        " 'PWD': '/media/riemann/dedekind/workspace/r-python',\n",
        " 'QT_IM_MODULE': 'xim',\n",
        " 'R_HOME': '/usr/lib/R',\n",
        " 'SESSION_MANAGER': 'local/brenden-xps:@/tmp/.ICE-unix/1401,unix/brenden-xps:/tmp/.ICE-unix/1401',\n",
        " 'SHELL': '/bin/bash',\n",
        " 'SHLVL': '1',\n",
        " 'SSH_AGENT_PID': '1442',\n",
        " 'SSH_AUTH_SOCK': '/home/brenden/.cache/keyring-I7GIHz/ssh',\n",
        " 'TERM': 'xterm-color',\n",
        " 'UBUNTU_MENUPROXY': 'libappmenu.so',\n",
        " 'USER': 'brenden',\n",
        " 'VIRTUAL_ENV': '/media/riemann/dedekind',\n",
        " 'WINDOWID': '52428804',\n",
        " 'XAUTHORITY': '/home/brenden/.Xauthority',\n",
        " 'XDG_CONFIG_DIRS': '/etc/xdg/xdg-gnome-fallback:/etc/xdg',\n",
        " 'XDG_CURRENT_DESKTOP': 'GNOME',\n",
        " 'XDG_DATA_DIRS': '/usr/share/gnome-fallback:/usr/share/gnome:/usr/local/share/:/usr/share/',\n",
        " 'XDG_SEAT_PATH': '/org/freedesktop/DisplayManager/Seat0',\n",
        " 'XDG_SESSION_COOKIE': '99a715f650dc0d0ef7a3c0d5002f2d3e-1423440762.119648-1714944886',\n",
        " 'XDG_SESSION_PATH': '/org/freedesktop/DisplayManager/Session0',\n",
        " 'XMODIFIERS': '@im=ibus',\n",
        " '_': '/media/riemann/dedekind/bin/ipython'}"
       ]
      }
     ],
     "prompt_number": 55
    },
    {
     "cell_type": "markdown",
     "metadata": {},
     "source": [
      "### \ub9e4\uc9c1 \uba85\ub839\uc5b4 \uc791\uc131\ud558\uae30"
     ]
    },
    {
     "cell_type": "code",
     "collapsed": false,
     "input": [
      "from IPython.core.magic import register_line_magic, register_cell_magic\n",
      "import timeit\n",
      "import platform\n",
      "\n",
      "@register_line_magic\n",
      "def timeit_info(line):\n",
      "    print('Platform version: {v}'.format(v=platform.platform()))\n",
      "    print('Python version: {v}'.format(v=platform.python_version()))\n",
      "    return timeit.timeit(line)\n"
     ],
     "language": "python",
     "metadata": {},
     "outputs": [],
     "prompt_number": 57
    },
    {
     "cell_type": "code",
     "collapsed": false,
     "input": [
      "%timeit_info 'x = [1 for _ in range(100000)]'"
     ],
     "language": "python",
     "metadata": {},
     "outputs": [
      {
       "output_type": "stream",
       "stream": "stdout",
       "text": [
        "Platform version: Linux-3.2.0-32-generic-x86_64-with-Ubuntu-12.04-precise\n",
        "Python version: 2.7.3\n"
       ]
      },
      {
       "metadata": {},
       "output_type": "pyout",
       "prompt_number": 58,
       "text": [
        "0.013"
       ]
      }
     ],
     "prompt_number": 58
    },
    {
     "cell_type": "markdown",
     "metadata": {},
     "source": [
      "### \uc704\uc82f \uc0ac\uc6a9\ud558\uae30"
     ]
    },
    {
     "cell_type": "code",
     "collapsed": false,
     "input": [
      "from IPython.html.widgets import interact\n",
      "\n",
      "@interact\n",
      "def plot(n=(1, 30), k=('a', 'b', 'c')):\n",
      "    print(n, type(str(k)))"
     ],
     "language": "python",
     "metadata": {},
     "outputs": [
      {
       "output_type": "stream",
       "stream": "stdout",
       "text": [
        "(15, <type 'str'>)\n"
       ]
      }
     ],
     "prompt_number": 59
    },
    {
     "cell_type": "code",
     "collapsed": false,
     "input": [
      "# http://scikit-learn.org/stable/auto_examples/svm/plot_iris.html\n",
      "\n",
      "import numpy as np\n",
      "import matplotlib.pyplot as plt\n",
      "from sklearn import svm, datasets\n",
      "from IPython.html.widgets import interact\n",
      "\n",
      "# import some data to play with\n",
      "iris = datasets.load_iris()\n",
      "X = iris.data[:, :2]  # we only take the first two features. We could\n",
      "                      # avoid this ugly slicing by using a two-dim dataset\n",
      "Y = iris.target\n",
      "\n",
      "h = .02  # step size in the mesh\n",
      "\n",
      "@interact\n",
      "def plot(C=(0.1, 2.0), kernel=('linear', 'rbf', 'poly')):\n",
      "    # we create an instance of SVM and fit out data.\n",
      "    clf = svm.SVC(kernel=str(kernel), C=C)\n",
      "    clf.fit(X, Y)\n",
      "\n",
      "    # Plot the decision boundary. For that, we will assign a color to each\n",
      "    # point in the mesh [x_min, m_max]x[y_min, y_max].\n",
      "    x_min, x_max = X[:, 0].min() - 1, X[:, 0].max() + 1\n",
      "    y_min, y_max = X[:, 1].min() - 1, X[:, 1].max() + 1\n",
      "    xx, yy = np.meshgrid(np.arange(x_min, x_max, h), np.arange(y_min, y_max, h))\n",
      "    Z = clf.predict(np.c_[xx.ravel(), yy.ravel()])\n",
      "\n",
      "    # Put the result into a color plot\n",
      "    Z = Z.reshape(xx.shape)\n",
      "    plt.pcolormesh(xx, yy, Z, cmap=plt.cm.Paired)\n",
      "\n",
      "    # Plot also the training points\n",
      "    plt.scatter(X[:, 0], X[:, 1], c=Y, cmap=plt.cm.Paired)\n",
      "    plt.show()\n",
      "\n",
      "\n"
     ],
     "language": "python",
     "metadata": {},
     "outputs": [
      {
       "metadata": {},
       "output_type": "display_data",
       "png": "[encoded data removed]",
       "text": [
        "<matplotlib.figure.Figure at 0x4aad7d0>"
       ]
      }
     ],
     "prompt_number": 60
    },
    {
     "cell_type": "code",
     "collapsed": false,
     "input": [
      "# http://scikit-learn.org/stable/auto_examples/exercises/plot_iris_exercise.html\n",
      "\n",
      "import numpy as np\n",
      "import matplotlib.pyplot as plt\n",
      "from sklearn import datasets, svm\n",
      "from IPython.html.widgets import interact\n",
      "\n",
      "iris = datasets.load_iris()\n",
      "X = iris.data\n",
      "y = iris.target\n",
      "\n",
      "X = X[y != 0, :2]\n",
      "y = y[y != 0]\n",
      "\n",
      "n_sample = len(X)\n",
      "\n",
      "np.random.seed(0)\n",
      "order = np.random.permutation(n_sample)\n",
      "X = X[order]\n",
      "y = y[order].astype(np.float)\n",
      "\n",
      "X_train = X[:.9 * n_sample]\n",
      "y_train = y[:.9 * n_sample]\n",
      "X_test = X[.9 * n_sample:]\n",
      "y_test = y[.9 * n_sample:]\n",
      "\n",
      "@interact\n",
      "def plot(kernel=('linear', 'rbf', 'poly'), gamma=(5, 15)):\n",
      "    clf = svm.SVC(kernel=str(kernel), gamma=gamma)\n",
      "    clf.fit(X_train, y_train)\n",
      "\n",
      "    plt.clf()\n",
      "    plt.scatter(X[:, 0], X[:, 1], c=y, zorder=10, cmap=plt.cm.Paired)\n",
      "\n",
      "    # Circle out the test data\n",
      "    plt.scatter(X_test[:, 0], X_test[:, 1], s=80, facecolors='none', zorder=10)\n",
      "\n",
      "    plt.axis('tight')\n",
      "    x_min = X[:, 0].min()\n",
      "    x_max = X[:, 0].max()\n",
      "    y_min = X[:, 1].min()\n",
      "    y_max = X[:, 1].max()\n",
      "\n",
      "    XX, YY = np.mgrid[x_min:x_max:200j, y_min:y_max:200j]\n",
      "    Z = clf.decision_function(np.c_[XX.ravel(), YY.ravel()])\n",
      "\n",
      "    # Put the result into a color plot\n",
      "    Z = Z.reshape(XX.shape)\n",
      "    plt.pcolormesh(XX, YY, Z > 0, cmap=plt.cm.Paired)\n",
      "    plt.contour(XX, YY, Z, colors=['k', 'k', 'k'], linestyles=['--', '-', '--'],\n",
      "                levels=[-.5, 0, .5])\n",
      "\n",
      "    plt.title(kernel)\n",
      "    plt.show()"
     ],
     "language": "python",
     "metadata": {},
     "outputs": [
      {
       "metadata": {},
       "output_type": "display_data",
       "png": "[encoded data removed]",
       "text": [
        "<matplotlib.figure.Figure at 0x5bae1d0>"
       ]
      }
     ],
     "prompt_number": 61
    },
    {
     "cell_type": "markdown",
     "metadata": {},
     "source": [
      "### notebook\uc5d0\uc11c R \uc5b8\uc5b4 \uc0ac\uc6a9\ud558\uae30 "
     ]
    },
    {
     "cell_type": "markdown",
     "metadata": {},
     "source": [
      "1. http://cran.r-project.org/mirrors.html\uc5d0\uc11c \uc6b4\uc601 \uccb4\uc81c\uc5d0 \ub530\ub978 R\uc744 \ub0b4\ub824 \ubc1b\uace0 \uc124\uce58\ud55c\ub2e4. \uc6b0\ubd84\ud22c\uc5d0\uc11c\ub294 sudo apt-get install r-base-dev\ub85c \uc124\uce58\ud560 \uc218 \uc788\ub2e4.\n",
      "1. http://rpy.sourceforge.net/rpy2.html\uc5d0\uc11c rpy2\ub97c \ub0b4\ub824\ubc1b\uace0 \uc124\uce58\ud55c\ub2e4. \uc544\ub098\ucf58\ub2e4\uc5d0\uc11c\ub294  install -c https://conda.binstar.org/r rpy2\ub85c \uc124\uce58\ud558\uba70  pip install rpy2\ub85c \uc124\uce58\ud574\ub3c4 \uc88b\ub2e4\n",
      "1. IPython notebook\uc5d0\uc11c R \ucf54\ub4dc\ub97c \uc2e4\ud589\ud558\ub824\uba74 \uba3c\uc800 %load_ext rmagic\uc744 \uc2e4\ud589\ud55c\ub2e4"
     ]
    },
    {
     "cell_type": "markdown",
     "metadata": {},
     "source": [
      "* http://nbviewer.ipython.org/github/ipython/ipython/blob/3607712653c66d63e0d7f13f073bde8c0f209ba8/docs/examples/notebooks/rmagic_extension.ipynb\n",
      "* http://nbviewer.ipython.org/github/dboyliao/cookbook-code/blob/master/notebooks/chapter07_stats/08_r.ipynb\n",
      "* http://ipython.org/ipython-doc/2/config/extensions/rmagic.html\n",
      "* http://www.randalolson.com/2013/01/14/filling-in-pythons-gaps-in-statistics-packages-with-rmagic/\n",
      "* http://blog.yhathq.com/posts/comparing-random-forests-in-python-and-r.html"
     ]
    },
    {
     "cell_type": "code",
     "collapsed": false,
     "input": [
      "%load_ext rmagic"
     ],
     "language": "python",
     "metadata": {},
     "outputs": [
      {
       "output_type": "stream",
       "stream": "stdout",
       "text": [
        "The rmagic extension is already loaded. To reload it, use:\n",
        "  %reload_ext rmagic\n"
       ]
      }
     ],
     "prompt_number": 62
    },
    {
     "cell_type": "code",
     "collapsed": false,
     "input": [
      "import numpy as np\n",
      "import pylab\n",
      "X = np.array([0,1,2,3,4])\n",
      "Y = np.array([3,5,4,6,7])\n",
      "pylab.scatter(X, Y)"
     ],
     "language": "python",
     "metadata": {},
     "outputs": [
      {
       "metadata": {},
       "output_type": "pyout",
       "prompt_number": 64,
       "text": [
        "<matplotlib.collections.PathCollection at 0x5c3b150>"
       ]
      },
      {
       "metadata": {},
       "output_type": "display_data",
       "png": "[encoded data removed]",
       "text": [
        "<matplotlib.figure.Figure at 0x5a83950>"
       ]
      }
     ],
     "prompt_number": 64
    },
    {
     "cell_type": "code",
     "collapsed": false,
     "input": [
      "%Rpush X Y\n",
      "%R lm(Y~X)$coef"
     ],
     "language": "python",
     "metadata": {},
     "outputs": [
      {
       "metadata": {},
       "output_type": "pyout",
       "prompt_number": 65,
       "text": [
        "array([ 3.2,  0.9])"
       ]
      }
     ],
     "prompt_number": 65
    },
    {
     "cell_type": "code",
     "collapsed": false,
     "input": [
      "%%R -i X,Y -o XYcoef\n",
      "XYlm = lm(Y~X)\n",
      "XYcoef = coef(XYlm)\n",
      "print(summary(XYlm))\n",
      "par(mfrow=c(2,2))\n",
      "plot(XYlm)"
     ],
     "language": "python",
     "metadata": {},
     "outputs": [
      {
       "metadata": {},
       "output_type": "display_data",
       "text": [
        "\n",
        "Call:\n",
        "lm(formula = Y ~ X)\n",
        "\n",
        "Residuals:\n",
        "   1    2    3    4    5 \n",
        "-0.2  0.9 -1.0  0.1  0.2 \n",
        "\n",
        "Coefficients:\n",
        "            Estimate Std. Error t value Pr(>|t|)  \n",
        "(Intercept)   3.2000     0.6164   5.191   0.0139 *\n",
        "X             0.9000     0.2517   3.576   0.0374 *\n",
        "---\n",
        "Signif. codes:  0 \u2018***\u2019 0.001 \u2018**\u2019 0.01 \u2018*\u2019 0.05 \u2018.\u2019 0.1 \u2018 \u2019 1\n",
        "\n",
        "Residual standard error: 0.7958 on 3 degrees of freedom\n",
        "Multiple R-squared:   0.81,\tAdjusted R-squared:  0.7467 \n",
        "F-statistic: 12.79 on 1 and 3 DF,  p-value: 0.03739\n",
        "\n"
       ]
      },
      {
       "metadata": {},
       "output_type": "display_data",
       "png": "[encoded data removed]"
      }
     ],
     "prompt_number": 36
    },
    {
     "cell_type": "code",
     "collapsed": false,
     "input": [],
     "language": "python",
     "metadata": {},
     "outputs": []
    }
   ],
   "metadata": {}
  }
 ]
}